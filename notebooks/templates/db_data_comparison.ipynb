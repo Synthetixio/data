{
 "cells": [
  {
   "cell_type": "code",
   "execution_count": null,
   "id": "3c425a3f-6709-4e53-adad-ded0faf63341",
   "metadata": {},
   "outputs": [],
   "source": [
    "import clickhouse_connect\n",
    "import psycopg2\n",
    "import pandas as pd\n",
    "import numpy as np"
   ]
  },
  {
   "cell_type": "code",
   "execution_count": null,
   "id": "2f3a9c0f-21be-4803-aa70-509c80597fc1",
   "metadata": {},
   "outputs": [],
   "source": [
    "network = 'base_mainnet'\n",
    "db_env = 'prod_analytics'\n",
    "\n",
    "CLICKHOUSE_CONFIG = {\n",
    "    'host': '',\n",
    "    'port': '',\n",
    "    'username': '',\n",
    "    'database': ''\n",
    "}\n",
    "\n",
    "POSTGRES_CONFIG = {\n",
    "    'host': '',\n",
    "    'port': '',\n",
    "    'user': '',\n",
    "    'password': '',\n",
    "    'dbname': ''\n",
    "}"
   ]
  },
  {
   "cell_type": "code",
   "execution_count": null,
   "id": "7e26475e-56bd-4947-8273-8123d4fb6e6e",
   "metadata": {},
   "outputs": [],
   "source": [
    "ch_client = clickhouse_connect.get_client(**CLICKHOUSE_CONFIG)\n",
    "pg_client = psycopg2.connect(**POSTGRES_CONFIG)"
   ]
  },
  {
   "cell_type": "code",
   "execution_count": null,
   "id": "53e51047-1918-450a-9164-584956dc8ce8",
   "metadata": {},
   "outputs": [],
   "source": [
    "def get_table_data_ch(client, query):\n",
    "    return client.query_df(query)\n",
    "\n",
    "def get_table_data_pg(client, query):\n",
    "    return pd.read_sql(sql=query, con=client)"
   ]
  },
  {
   "cell_type": "code",
   "execution_count": null,
   "id": "7c68e89b-7cc3-478e-8dd3-17553dcbf922",
   "metadata": {},
   "outputs": [],
   "source": [
    "tables_to_compare = [\n",
    "    {\n",
    "        'name': 'fct_pool_rewards',\n",
    "        'cols': ['amount', 'duration']\n",
    "    },\n",
    "    {\n",
    "        'name': 'fct_buyback',\n",
    "        'cols': ['snx', 'usd', 'snx_price']\n",
    "    }\n",
    "]\n",
    "\n",
    "start_date = pd.to_datetime('2024-01-01')\n",
    "end_date = pd.to_datetime('2025-01-27')\n",
    "date_range = [start_date, end_date]"
   ]
  },
  {
   "cell_type": "code",
   "execution_count": null,
   "id": "53a31931-864b-4142-a67b-5249acf30f29",
   "metadata": {},
   "outputs": [],
   "source": [
    "comparison_results_all = []\n",
    "for table in tables_to_compare:\n",
    "    table_name = table['name']\n",
    "\n",
    "    ch_query = f\"\"\"\n",
    "        select * from synthetix_{table_name}_{network}\n",
    "        WHERE \n",
    "            ts >= toDateTime('{date_range[0].strftime('%Y-%m-%d %H:%M:%S')}') \n",
    "            AND ts <= toDateTime('{date_range[1].strftime('%Y-%m-%d %H:%M:%S')}')\n",
    "    \"\"\"\n",
    "    ch_df = get_table_data_ch(ch_client, ch_query)\n",
    "    ch_df = ch_df.sort_values(by=['ts'], ignore_index=True)\n",
    "\n",
    "    pg_schema = \"prod_base_mainnet\"\n",
    "    pg_query = f\"\"\"\n",
    "        select * from {pg_schema}.{table_name}_{network}\n",
    "        WHERE \n",
    "            ts >= '{date_range[0].strftime('%Y-%m-%d %H:%M:%S')}' \n",
    "            AND ts <= '{date_range[1].strftime('%Y-%m-%d %H:%M:%S')}'\n",
    "    \"\"\"\n",
    "    pg_df = get_table_data_pg(pg_client, pg_query)\n",
    "    pg_df = pg_df.sort_values(by=['ts'], ignore_index=True)\n",
    "\n",
    "    # Basic comparison metrics\n",
    "    table_comparison = {\n",
    "        'table_name': table_name,\n",
    "        'row_count_match': len(ch_df) == len(pg_df),\n",
    "        'clickhouse_rows': len(ch_df),\n",
    "        'postgres_rows': len(pg_df),\n",
    "        'column_matches': {}\n",
    "    }\n",
    "    \n",
    "    cols_to_compare = table['cols']\n",
    "\n",
    "    for col in cols_to_compare:\n",
    "        ch_col = ch_df[col].fillna(0)\n",
    "        pg_col = pg_df[col].fillna(0)\n",
    "\n",
    "        diff = ch_col - pg_col\n",
    "        if ch_col.dtype in ['string', 'object']:\n",
    "            col_comparison = {\n",
    "                'exact_match': (ch_col == pg_col).all(),\n",
    "                'mismatch_count': (~(ch_col == pg_col)).sum()\n",
    "            }\n",
    "        else:\n",
    "            col_comparison = {\n",
    "                'exact_match': (ch_col == pg_col).all(),\n",
    "                'mismatch_count': (~(ch_col == pg_col)).sum(),\n",
    "                'mean_diff': diff.mean(),\n",
    "                'max_diff': diff.max(),\n",
    "                'min_diff': diff.min(),\n",
    "            }\n",
    "        table_comparison['column_matches'][col] = col_comparison\n",
    "    comparison_results_all.append(table_comparison)"
   ]
  },
  {
   "cell_type": "code",
   "execution_count": null,
   "id": "e76df006-1373-4b7d-a0af-a76f549e5f2c",
   "metadata": {},
   "outputs": [],
   "source": [
    "for comparison_results in comparison_results_all:\n",
    "    print(f\"\\n{'=' * 60}\\nComparing Table: {table_name}\\n{'=' * 60}\")\n",
    "    # Display the comparison results in a structured format\n",
    "    print(f\"Row Count Match: {comparison_results['table_name']}\")\n",
    "    print(f\"Row Count Match: {comparison_results['row_count_match']}\")\n",
    "    print(f\"ClickHouse Rows: {comparison_results['clickhouse_rows']}\")\n",
    "    print(f\"Postgres Rows: {comparison_results['postgres_rows']}\\n\")\n",
    "\n",
    "    print(\"Column Comparisons:\")\n",
    "    for col, result in comparison_results['column_matches'].items():\n",
    "        print(f\"\\n  Column: {col}\")\n",
    "        print(f\"    Exact Match: {result['exact_match']}\")\n",
    "        print(f\"    Mismatch Count: {result['mismatch_count']}\")\n",
    "\n",
    "        if 'mean_diff' in result:\n",
    "            print(f\"    Mean Difference: {result['mean_diff']:.6e}\")\n",
    "            print(f\"    Max Difference: {result['max_diff']:.6e}\")\n",
    "            print(f\"    Min Difference: {result['min_diff']:.6e}\")\n",
    "\n",
    "    print(\"\\n\" + \"-\" * 60)"
   ]
  }
 ],
 "metadata": {
  "kernelspec": {
   "display_name": "Python 3 (ipykernel)",
   "language": "python",
   "name": "python3"
  },
  "language_info": {
   "codemirror_mode": {
    "name": "ipython",
    "version": 3
   },
   "file_extension": ".py",
   "mimetype": "text/x-python",
   "name": "python",
   "nbconvert_exporter": "python",
   "pygments_lexer": "ipython3",
   "version": "3.12.0"
  }
 },
 "nbformat": 4,
 "nbformat_minor": 5
}
